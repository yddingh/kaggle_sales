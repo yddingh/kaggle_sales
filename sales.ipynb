{
 "cells": [
  {
   "cell_type": "code",
   "execution_count": 1,
   "id": "1649acb3",
   "metadata": {
    "_cell_guid": "b1076dfc-b9ad-4769-8c92-a6c4dae69d19",
    "_uuid": "8f2839f25d086af736a60e9eeb907d3b93b6e0e5",
    "execution": {
     "iopub.execute_input": "2025-07-25T09:43:09.977409Z",
     "iopub.status.busy": "2025-07-25T09:43:09.977053Z",
     "iopub.status.idle": "2025-07-25T09:43:11.707067Z",
     "shell.execute_reply": "2025-07-25T09:43:11.706144Z"
    },
    "papermill": {
     "duration": 1.735247,
     "end_time": "2025-07-25T09:43:11.708613",
     "exception": false,
     "start_time": "2025-07-25T09:43:09.973366",
     "status": "completed"
    },
    "tags": []
   },
   "outputs": [
    {
     "name": "stdout",
     "output_type": "stream",
     "text": [
      "/kaggle/input/store-sales-time-series-forecasting/oil.csv\n",
      "/kaggle/input/store-sales-time-series-forecasting/sample_submission.csv\n",
      "/kaggle/input/store-sales-time-series-forecasting/holidays_events.csv\n",
      "/kaggle/input/store-sales-time-series-forecasting/stores.csv\n",
      "/kaggle/input/store-sales-time-series-forecasting/train.csv\n",
      "/kaggle/input/store-sales-time-series-forecasting/test.csv\n",
      "/kaggle/input/store-sales-time-series-forecasting/transactions.csv\n"
     ]
    }
   ],
   "source": [
    "# This Python 3 environment comes with many helpful analytics libraries installed\n",
    "# It is defined by the kaggle/python Docker image: https://github.com/kaggle/docker-python\n",
    "# For example, here's several helpful packages to load\n",
    "\n",
    "import numpy as np # linear algebra\n",
    "import pandas as pd # data processing, CSV file I/O (e.g. pd.read_csv)\n",
    "\n",
    "# Input data files are available in the read-only \"../input/\" directory\n",
    "# For example, running this (by clicking run or pressing Shift+Enter) will list all files under the input directory\n",
    "\n",
    "import os\n",
    "for dirname, _, filenames in os.walk('/kaggle/input'):\n",
    "    for filename in filenames:\n",
    "        print(os.path.join(dirname, filename))\n",
    "\n",
    "# You can write up to 20GB to the current directory (/kaggle/working/) that gets preserved as output when you create a version using \"Save & Run All\" \n",
    "# You can also write temporary files to /kaggle/temp/, but they won't be saved outside of the current session"
   ]
  },
  {
   "cell_type": "code",
   "execution_count": 2,
   "id": "71ac79c6",
   "metadata": {
    "execution": {
     "iopub.execute_input": "2025-07-25T09:43:11.714102Z",
     "iopub.status.busy": "2025-07-25T09:43:11.713736Z",
     "iopub.status.idle": "2025-07-25T09:43:14.973024Z",
     "shell.execute_reply": "2025-07-25T09:43:14.972297Z"
    },
    "papermill": {
     "duration": 3.263514,
     "end_time": "2025-07-25T09:43:14.974699",
     "exception": false,
     "start_time": "2025-07-25T09:43:11.711185",
     "status": "completed"
    },
    "tags": []
   },
   "outputs": [],
   "source": [
    "# input dataset\n",
    "train = pd.read_csv(\"/kaggle/input/store-sales-time-series-forecasting/train.csv\")\n",
    "test = pd.read_csv(\"/kaggle/input/store-sales-time-series-forecasting/test.csv\")\n",
    "stores = pd.read_csv('/kaggle/input/store-sales-time-series-forecasting/stores.csv')\n",
    "holidays = pd.read_csv('/kaggle/input/store-sales-time-series-forecasting/holidays_events.csv', parse_dates=['date'])\n",
    "oil = pd.read_csv('/kaggle/input/store-sales-time-series-forecasting/oil.csv', parse_dates=['date'])\n",
    "transactions = pd.read_csv('/kaggle/input/store-sales-time-series-forecasting/transactions.csv', parse_dates=['date'])"
   ]
  },
  {
   "cell_type": "code",
   "execution_count": 3,
   "id": "eb3ce975",
   "metadata": {
    "execution": {
     "iopub.execute_input": "2025-07-25T09:43:14.980932Z",
     "iopub.status.busy": "2025-07-25T09:43:14.980661Z",
     "iopub.status.idle": "2025-07-25T09:43:18.346099Z",
     "shell.execute_reply": "2025-07-25T09:43:18.345061Z"
    },
    "papermill": {
     "duration": 3.3706,
     "end_time": "2025-07-25T09:43:18.347859",
     "exception": false,
     "start_time": "2025-07-25T09:43:14.977259",
     "status": "completed"
    },
    "tags": []
   },
   "outputs": [
    {
     "name": "stdout",
     "output_type": "stream",
     "text": [
      "<class 'pandas.core.frame.DataFrame'>\n",
      "RangeIndex: 3054348 entries, 0 to 3054347\n",
      "Data columns (total 14 columns):\n",
      " #   Column           Dtype         \n",
      "---  ------           -----         \n",
      " 0   id               int64         \n",
      " 1   date             datetime64[ns]\n",
      " 2   holidays_locale  object        \n",
      " 3   transferred      object        \n",
      " 4   dcoilwtico       float64       \n",
      " 5   store_nbr        int64         \n",
      " 6   onpromotion      int64         \n",
      " 7   city             object        \n",
      " 8   state            object        \n",
      " 9   type             object        \n",
      " 10  cluster          int64         \n",
      " 11  family           object        \n",
      " 12  transactions     float64       \n",
      " 13  sales            float64       \n",
      "dtypes: datetime64[ns](1), float64(3), int64(4), object(6)\n",
      "memory usage: 326.2+ MB\n",
      "<class 'pandas.core.frame.DataFrame'>\n",
      "RangeIndex: 28512 entries, 0 to 28511\n",
      "Data columns (total 12 columns):\n",
      " #   Column           Non-Null Count  Dtype         \n",
      "---  ------           --------------  -----         \n",
      " 0   id               28512 non-null  int64         \n",
      " 1   date             28512 non-null  datetime64[ns]\n",
      " 2   holidays_locale  1782 non-null   object        \n",
      " 3   transferred      1782 non-null   object        \n",
      " 4   dcoilwtico       21384 non-null  float64       \n",
      " 5   store_nbr        28512 non-null  int64         \n",
      " 6   onpromotion      28512 non-null  int64         \n",
      " 7   city             28512 non-null  object        \n",
      " 8   state            28512 non-null  object        \n",
      " 9   type             28512 non-null  object        \n",
      " 10  cluster          28512 non-null  int64         \n",
      " 11  family           28512 non-null  object        \n",
      "dtypes: datetime64[ns](1), float64(1), int64(4), object(6)\n",
      "memory usage: 2.6+ MB\n"
     ]
    }
   ],
   "source": [
    "# adjust date formats\n",
    "train['date'] = pd.to_datetime(train['date'])\n",
    "test['date'] = pd.to_datetime(test['date'])\n",
    "transactions['date'] = pd.to_datetime(transactions['date'])\n",
    "holidays['date'] = pd.to_datetime(holidays['date'])\n",
    "oil['date'] = pd.to_datetime(oil['date'])\n",
    "\n",
    "# merge the dataset\n",
    "train = train.merge(stores, on='store_nbr', how='left')\n",
    "test = test.merge(stores, on='store_nbr', how='left')\n",
    "\n",
    "train = train.merge(transactions, on=['date', 'store_nbr'], how='left')\n",
    "\n",
    "train = train.merge(oil, on='date', how='left')\n",
    "test = test.merge(oil, on='date', how='left')\n",
    "\n",
    "holidays = holidays[['date', 'locale', 'transferred']].rename(columns={'locale': 'holidays_locale'})\n",
    "train = train.merge(holidays, on='date', how='left', suffixes=('', '_holiday'))\n",
    "test = test.merge(holidays, on='date', how='left', suffixes=('', '_holiday'))\n",
    "\n",
    "#adjust the order of dataset\n",
    "train_order = [\n",
    "    'id', 'date', 'holidays_locale', 'transferred', 'dcoilwtico',\n",
    "    'store_nbr', 'onpromotion', 'city', 'state', 'type', 'cluster',\n",
    "    'family', 'transactions', 'sales'\n",
    "]\n",
    "\n",
    "test_order = [\n",
    "    'id', 'date', 'holidays_locale', 'transferred', 'dcoilwtico',\n",
    "    'store_nbr', 'onpromotion', 'city', 'state', 'type', 'cluster',\n",
    "    'family'\n",
    "]\n",
    "\n",
    "train = train[train_order]\n",
    "test = test[test_order]\n",
    "\n",
    "train.info()\n",
    "test.info()"
   ]
  },
  {
   "cell_type": "code",
   "execution_count": 4,
   "id": "f08fc0b8",
   "metadata": {
    "execution": {
     "iopub.execute_input": "2025-07-25T09:43:18.354299Z",
     "iopub.status.busy": "2025-07-25T09:43:18.353944Z",
     "iopub.status.idle": "2025-07-25T09:43:20.428052Z",
     "shell.execute_reply": "2025-07-25T09:43:20.426956Z"
    },
    "papermill": {
     "duration": 2.078884,
     "end_time": "2025-07-25T09:43:20.429524",
     "exception": false,
     "start_time": "2025-07-25T09:43:18.350640",
     "status": "completed"
    },
    "tags": []
   },
   "outputs": [
    {
     "name": "stdout",
     "output_type": "stream",
     "text": [
      "---missing value---\n",
      "id                       0\n",
      "date                     0\n",
      "holidays_locale    2551824\n",
      "transferred        2551824\n",
      "dcoilwtico          955152\n",
      "store_nbr                0\n",
      "onpromotion              0\n",
      "city                     0\n",
      "state                    0\n",
      "type                     0\n",
      "cluster                  0\n",
      "family                   0\n",
      "transactions        249117\n",
      "sales                    0\n",
      "dtype: int64\n",
      "\n",
      "---unique value---\n",
      "id:3000888\n",
      "date:1684\n",
      "holidays_locale:3\n",
      "transferred:2\n",
      "dcoilwtico:994\n",
      "store_nbr:54\n",
      "onpromotion:362\n",
      "city:22\n",
      "state:16\n",
      "type:5\n",
      "cluster:17\n",
      "family:33\n",
      "transactions:4993\n",
      "sales:379610\n"
     ]
    }
   ],
   "source": [
    "# check the missing values\n",
    "print(\"---missing value---\")\n",
    "print(train.isnull().sum())\n",
    "\n",
    "print(\"\\n---unique value---\")\n",
    "for col in train:\n",
    "    print(f\"{col}:{train[col].nunique()}\")"
   ]
  },
  {
   "cell_type": "code",
   "execution_count": 5,
   "id": "e3066b0f",
   "metadata": {
    "execution": {
     "iopub.execute_input": "2025-07-25T09:43:20.436197Z",
     "iopub.status.busy": "2025-07-25T09:43:20.435891Z",
     "iopub.status.idle": "2025-07-25T09:43:21.700243Z",
     "shell.execute_reply": "2025-07-25T09:43:21.699476Z"
    },
    "papermill": {
     "duration": 1.269327,
     "end_time": "2025-07-25T09:43:21.701795",
     "exception": false,
     "start_time": "2025-07-25T09:43:20.432468",
     "status": "completed"
    },
    "tags": []
   },
   "outputs": [
    {
     "name": "stderr",
     "output_type": "stream",
     "text": [
      "/tmp/ipykernel_13/1518180959.py:3: FutureWarning: Downcasting object dtype arrays on .fillna, .ffill, .bfill is deprecated and will change in a future version. Call result.infer_objects(copy=False) instead. To opt-in to the future behavior, set `pd.set_option('future.no_silent_downcasting', True)`\n",
      "  train['transferred'] = train['transferred'].fillna(False)\n",
      "/tmp/ipykernel_13/1518180959.py:5: FutureWarning: Series.fillna with 'method' is deprecated and will raise in a future version. Use obj.ffill() or obj.bfill() instead.\n",
      "  train['dcoilwtico'] = train['dcoilwtico'].fillna(method='ffill').fillna(method='bfill')\n"
     ]
    }
   ],
   "source": [
    "#fill in the missing value\n",
    "train['holidays_locale'] = train['holidays_locale'].fillna(False)\n",
    "train['transferred'] = train['transferred'].fillna(False)\n",
    "train['dcoilwtico'] = train['dcoilwtico'].interpolate(method='linear')\n",
    "train['dcoilwtico'] = train['dcoilwtico'].fillna(method='ffill').fillna(method='bfill')\n",
    "train['transactions'] = train.groupby('store_nbr')['transactions'].transform(lambda x: x.fillna(x.median()))"
   ]
  },
  {
   "cell_type": "code",
   "execution_count": 6,
   "id": "8fc56e58",
   "metadata": {
    "execution": {
     "iopub.execute_input": "2025-07-25T09:43:21.708194Z",
     "iopub.status.busy": "2025-07-25T09:43:21.707914Z",
     "iopub.status.idle": "2025-07-25T09:43:23.727011Z",
     "shell.execute_reply": "2025-07-25T09:43:23.725976Z"
    },
    "papermill": {
     "duration": 2.023733,
     "end_time": "2025-07-25T09:43:23.728382",
     "exception": false,
     "start_time": "2025-07-25T09:43:21.704649",
     "status": "completed"
    },
    "tags": []
   },
   "outputs": [
    {
     "name": "stdout",
     "output_type": "stream",
     "text": [
      "---missing value---\n",
      "id                 0\n",
      "date               0\n",
      "holidays_locale    0\n",
      "transferred        0\n",
      "dcoilwtico         0\n",
      "store_nbr          0\n",
      "onpromotion        0\n",
      "city               0\n",
      "state              0\n",
      "type               0\n",
      "cluster            0\n",
      "family             0\n",
      "transactions       0\n",
      "sales              0\n",
      "dtype: int64\n",
      "\n",
      "---unique value---\n",
      "id:3000888\n",
      "date:1684\n",
      "holidays_locale:4\n",
      "transferred:2\n",
      "dcoilwtico:933305\n",
      "store_nbr:54\n",
      "onpromotion:362\n",
      "city:22\n",
      "state:16\n",
      "type:5\n",
      "cluster:17\n",
      "family:33\n",
      "transactions:5001\n",
      "sales:379610\n"
     ]
    }
   ],
   "source": [
    "# check the missing values\n",
    "print(\"---missing value---\")\n",
    "print(train.isnull().sum())\n",
    "\n",
    "print(\"\\n---unique value---\")\n",
    "for col in train:\n",
    "    print(f\"{col}:{train[col].nunique()}\")"
   ]
  },
  {
   "cell_type": "code",
   "execution_count": 7,
   "id": "2522912a",
   "metadata": {
    "execution": {
     "iopub.execute_input": "2025-07-25T09:43:23.735570Z",
     "iopub.status.busy": "2025-07-25T09:43:23.735240Z",
     "iopub.status.idle": "2025-07-25T09:43:24.279190Z",
     "shell.execute_reply": "2025-07-25T09:43:24.278478Z"
    },
    "papermill": {
     "duration": 0.549438,
     "end_time": "2025-07-25T09:43:24.280934",
     "exception": false,
     "start_time": "2025-07-25T09:43:23.731496",
     "status": "completed"
    },
    "tags": []
   },
   "outputs": [],
   "source": [
    "#extract temporal feature\n",
    "train['year'] = train['date'].dt.year\n",
    "train['month'] = train['date'].dt.month\n",
    "train['day'] = train['date'].dt.day\n",
    "train['dayofweek'] = train['date'].dt.dayofweek\n",
    "train['weekofyear'] = train['date'].dt.isocalendar().week.astype(int)\n",
    "train['is_weekend'] = train['dayofweek'].isin([5, 6]).astype(int)"
   ]
  },
  {
   "cell_type": "code",
   "execution_count": 8,
   "id": "cb717d0d",
   "metadata": {
    "execution": {
     "iopub.execute_input": "2025-07-25T09:43:24.287942Z",
     "iopub.status.busy": "2025-07-25T09:43:24.287678Z",
     "iopub.status.idle": "2025-07-25T09:43:26.070571Z",
     "shell.execute_reply": "2025-07-25T09:43:26.069359Z"
    },
    "papermill": {
     "duration": 1.788146,
     "end_time": "2025-07-25T09:43:26.072216",
     "exception": false,
     "start_time": "2025-07-25T09:43:24.284070",
     "status": "completed"
    },
    "tags": []
   },
   "outputs": [],
   "source": [
    "from sklearn.model_selection import train_test_split\n",
    "from sklearn.pipeline import Pipeline\n",
    "from sklearn.compose import ColumnTransformer\n",
    "from sklearn.preprocessing import StandardScaler, OneHotEncoder\n",
    "from sklearn.ensemble import RandomForestClassifier\n"
   ]
  }
 ],
 "metadata": {
  "kaggle": {
   "accelerator": "none",
   "dataSources": [
    {
     "databundleVersionId": 2887556,
     "sourceId": 29781,
     "sourceType": "competition"
    }
   ],
   "dockerImageVersionId": 31089,
   "isGpuEnabled": false,
   "isInternetEnabled": false,
   "language": "python",
   "sourceType": "notebook"
  },
  "kernelspec": {
   "display_name": "Python 3",
   "language": "python",
   "name": "python3"
  },
  "language_info": {
   "codemirror_mode": {
    "name": "ipython",
    "version": 3
   },
   "file_extension": ".py",
   "mimetype": "text/x-python",
   "name": "python",
   "nbconvert_exporter": "python",
   "pygments_lexer": "ipython3",
   "version": "3.11.13"
  },
  "papermill": {
   "default_parameters": {},
   "duration": 21.397243,
   "end_time": "2025-07-25T09:43:26.794690",
   "environment_variables": {},
   "exception": null,
   "input_path": "__notebook__.ipynb",
   "output_path": "__notebook__.ipynb",
   "parameters": {},
   "start_time": "2025-07-25T09:43:05.397447",
   "version": "2.6.0"
  }
 },
 "nbformat": 4,
 "nbformat_minor": 5
}
