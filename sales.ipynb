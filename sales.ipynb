{
 "cells": [
  {
   "cell_type": "code",
   "execution_count": 1,
   "id": "acf06e7d",
   "metadata": {
    "_cell_guid": "b1076dfc-b9ad-4769-8c92-a6c4dae69d19",
    "_uuid": "8f2839f25d086af736a60e9eeb907d3b93b6e0e5",
    "execution": {
     "iopub.execute_input": "2025-07-22T09:22:00.403017Z",
     "iopub.status.busy": "2025-07-22T09:22:00.402648Z",
     "iopub.status.idle": "2025-07-22T09:22:02.401773Z",
     "shell.execute_reply": "2025-07-22T09:22:02.400672Z"
    },
    "papermill": {
     "duration": 2.004607,
     "end_time": "2025-07-22T09:22:02.403642",
     "exception": false,
     "start_time": "2025-07-22T09:22:00.399035",
     "status": "completed"
    },
    "tags": []
   },
   "outputs": [
    {
     "name": "stdout",
     "output_type": "stream",
     "text": [
      "/kaggle/input/store-sales-time-series-forecasting/oil.csv\n",
      "/kaggle/input/store-sales-time-series-forecasting/sample_submission.csv\n",
      "/kaggle/input/store-sales-time-series-forecasting/holidays_events.csv\n",
      "/kaggle/input/store-sales-time-series-forecasting/stores.csv\n",
      "/kaggle/input/store-sales-time-series-forecasting/train.csv\n",
      "/kaggle/input/store-sales-time-series-forecasting/test.csv\n",
      "/kaggle/input/store-sales-time-series-forecasting/transactions.csv\n"
     ]
    }
   ],
   "source": [
    "# This Python 3 environment comes with many helpful analytics libraries installed\n",
    "# It is defined by the kaggle/python Docker image: https://github.com/kaggle/docker-python\n",
    "# For example, here's several helpful packages to load\n",
    "\n",
    "import numpy as np # linear algebra\n",
    "import pandas as pd # data processing, CSV file I/O (e.g. pd.read_csv)\n",
    "\n",
    "# Input data files are available in the read-only \"../input/\" directory\n",
    "# For example, running this (by clicking run or pressing Shift+Enter) will list all files under the input directory\n",
    "\n",
    "import os\n",
    "for dirname, _, filenames in os.walk('/kaggle/input'):\n",
    "    for filename in filenames:\n",
    "        print(os.path.join(dirname, filename))\n",
    "\n",
    "# You can write up to 20GB to the current directory (/kaggle/working/) that gets preserved as output when you create a version using \"Save & Run All\" \n",
    "# You can also write temporary files to /kaggle/temp/, but they won't be saved outside of the current session"
   ]
  },
  {
   "cell_type": "code",
   "execution_count": 2,
   "id": "44f98e3b",
   "metadata": {
    "execution": {
     "iopub.execute_input": "2025-07-22T09:22:02.410271Z",
     "iopub.status.busy": "2025-07-22T09:22:02.409678Z",
     "iopub.status.idle": "2025-07-22T09:22:05.783174Z",
     "shell.execute_reply": "2025-07-22T09:22:05.782136Z"
    },
    "papermill": {
     "duration": 3.37848,
     "end_time": "2025-07-22T09:22:05.784856",
     "exception": false,
     "start_time": "2025-07-22T09:22:02.406376",
     "status": "completed"
    },
    "tags": []
   },
   "outputs": [],
   "source": [
    "# input dataset\n",
    "train = pd.read_csv(\"/kaggle/input/store-sales-time-series-forecasting/train.csv\")\n",
    "test = pd.read_csv(\"/kaggle/input/store-sales-time-series-forecasting/test.csv\")\n",
    "stores = pd.read_csv('/kaggle/input/store-sales-time-series-forecasting/stores.csv')\n",
    "holidays = pd.read_csv('/kaggle/input/store-sales-time-series-forecasting/holidays_events.csv', parse_dates=['date'])\n",
    "oil = pd.read_csv('/kaggle/input/store-sales-time-series-forecasting/oil.csv', parse_dates=['date'])\n",
    "transactions = pd.read_csv('/kaggle/input/store-sales-time-series-forecasting/transactions.csv', parse_dates=['date'])"
   ]
  },
  {
   "cell_type": "code",
   "execution_count": 3,
   "id": "8817d0f7",
   "metadata": {
    "execution": {
     "iopub.execute_input": "2025-07-22T09:22:05.790284Z",
     "iopub.status.busy": "2025-07-22T09:22:05.789922Z",
     "iopub.status.idle": "2025-07-22T09:22:09.116051Z",
     "shell.execute_reply": "2025-07-22T09:22:09.115163Z"
    },
    "papermill": {
     "duration": 3.330741,
     "end_time": "2025-07-22T09:22:09.117760",
     "exception": false,
     "start_time": "2025-07-22T09:22:05.787019",
     "status": "completed"
    },
    "tags": []
   },
   "outputs": [
    {
     "name": "stdout",
     "output_type": "stream",
     "text": [
      "<class 'pandas.core.frame.DataFrame'>\n",
      "RangeIndex: 3054348 entries, 0 to 3054347\n",
      "Data columns (total 14 columns):\n",
      " #   Column           Dtype         \n",
      "---  ------           -----         \n",
      " 0   id               int64         \n",
      " 1   date             datetime64[ns]\n",
      " 2   holidays_locale  object        \n",
      " 3   transferred      object        \n",
      " 4   dcoilwtico       float64       \n",
      " 5   store_nbr        int64         \n",
      " 6   onpromotion      int64         \n",
      " 7   city             object        \n",
      " 8   state            object        \n",
      " 9   type             object        \n",
      " 10  cluster          int64         \n",
      " 11  family           object        \n",
      " 12  transactions     float64       \n",
      " 13  sales            float64       \n",
      "dtypes: datetime64[ns](1), float64(3), int64(4), object(6)\n",
      "memory usage: 326.2+ MB\n",
      "<class 'pandas.core.frame.DataFrame'>\n",
      "RangeIndex: 28512 entries, 0 to 28511\n",
      "Data columns (total 12 columns):\n",
      " #   Column           Non-Null Count  Dtype         \n",
      "---  ------           --------------  -----         \n",
      " 0   id               28512 non-null  int64         \n",
      " 1   date             28512 non-null  datetime64[ns]\n",
      " 2   holidays_locale  1782 non-null   object        \n",
      " 3   transferred      1782 non-null   object        \n",
      " 4   dcoilwtico       21384 non-null  float64       \n",
      " 5   store_nbr        28512 non-null  int64         \n",
      " 6   onpromotion      28512 non-null  int64         \n",
      " 7   city             28512 non-null  object        \n",
      " 8   state            28512 non-null  object        \n",
      " 9   type             28512 non-null  object        \n",
      " 10  cluster          28512 non-null  int64         \n",
      " 11  family           28512 non-null  object        \n",
      "dtypes: datetime64[ns](1), float64(1), int64(4), object(6)\n",
      "memory usage: 2.6+ MB\n"
     ]
    }
   ],
   "source": [
    "# adjust date formats\n",
    "train['date'] = pd.to_datetime(train['date'])\n",
    "test['date'] = pd.to_datetime(test['date'])\n",
    "transactions['date'] = pd.to_datetime(transactions['date'])\n",
    "holidays['date'] = pd.to_datetime(holidays['date'])\n",
    "oil['date'] = pd.to_datetime(oil['date'])\n",
    "\n",
    "# merge the dataset\n",
    "train = train.merge(stores, on='store_nbr', how='left')\n",
    "test = test.merge(stores, on='store_nbr', how='left')\n",
    "\n",
    "train = train.merge(transactions, on=['date', 'store_nbr'], how='left')\n",
    "\n",
    "train = train.merge(oil, on='date', how='left')\n",
    "test = test.merge(oil, on='date', how='left')\n",
    "\n",
    "holidays = holidays[['date', 'locale', 'transferred']].rename(columns={'locale': 'holidays_locale'})\n",
    "train = train.merge(holidays, on='date', how='left', suffixes=('', '_holiday'))\n",
    "test = test.merge(holidays, on='date', how='left', suffixes=('', '_holiday'))\n",
    "\n",
    "#adjust the order of dataset\n",
    "train_order = [\n",
    "    'id', 'date', 'holidays_locale', 'transferred', 'dcoilwtico',\n",
    "    'store_nbr', 'onpromotion', 'city', 'state', 'type', 'cluster',\n",
    "    'family', 'transactions', 'sales'\n",
    "]\n",
    "\n",
    "test_order = [\n",
    "    'id', 'date', 'holidays_locale', 'transferred', 'dcoilwtico',\n",
    "    'store_nbr', 'onpromotion', 'city', 'state', 'type', 'cluster',\n",
    "    'family'\n",
    "]\n",
    "\n",
    "train = train[train_order]\n",
    "test = test[test_order]\n",
    "\n",
    "train.info()\n",
    "test.info()"
   ]
  },
  {
   "cell_type": "code",
   "execution_count": 4,
   "id": "229e4129",
   "metadata": {
    "execution": {
     "iopub.execute_input": "2025-07-22T09:22:09.123510Z",
     "iopub.status.busy": "2025-07-22T09:22:09.123210Z",
     "iopub.status.idle": "2025-07-22T09:22:11.244453Z",
     "shell.execute_reply": "2025-07-22T09:22:11.243298Z"
    },
    "papermill": {
     "duration": 2.125994,
     "end_time": "2025-07-22T09:22:11.246053",
     "exception": false,
     "start_time": "2025-07-22T09:22:09.120059",
     "status": "completed"
    },
    "tags": []
   },
   "outputs": [
    {
     "name": "stdout",
     "output_type": "stream",
     "text": [
      "---missing value---\n",
      "id                       0\n",
      "date                     0\n",
      "holidays_locale    2551824\n",
      "transferred        2551824\n",
      "dcoilwtico          955152\n",
      "store_nbr                0\n",
      "onpromotion              0\n",
      "city                     0\n",
      "state                    0\n",
      "type                     0\n",
      "cluster                  0\n",
      "family                   0\n",
      "transactions        249117\n",
      "sales                    0\n",
      "dtype: int64\n",
      "\n",
      "---unique value---\n",
      "id:3000888\n",
      "date:1684\n",
      "holidays_locale:3\n",
      "transferred:2\n",
      "dcoilwtico:994\n",
      "store_nbr:54\n",
      "onpromotion:362\n",
      "city:22\n",
      "state:16\n",
      "type:5\n",
      "cluster:17\n",
      "family:33\n",
      "transactions:4993\n",
      "sales:379610\n"
     ]
    }
   ],
   "source": [
    "# check the missing values\n",
    "print(\"---missing value---\")\n",
    "print(train.isnull().sum())\n",
    "\n",
    "print(\"\\n---unique value---\")\n",
    "for col in train:\n",
    "    print(f\"{col}:{train[col].nunique()}\")"
   ]
  },
  {
   "cell_type": "code",
   "execution_count": null,
   "id": "d4485a04",
   "metadata": {
    "papermill": {
     "duration": 0.002099,
     "end_time": "2025-07-22T09:22:11.250701",
     "exception": false,
     "start_time": "2025-07-22T09:22:11.248602",
     "status": "completed"
    },
    "tags": []
   },
   "outputs": [],
   "source": []
  }
 ],
 "metadata": {
  "kaggle": {
   "accelerator": "none",
   "dataSources": [
    {
     "databundleVersionId": 2887556,
     "sourceId": 29781,
     "sourceType": "competition"
    }
   ],
   "dockerImageVersionId": 31089,
   "isGpuEnabled": false,
   "isInternetEnabled": false,
   "language": "python",
   "sourceType": "notebook"
  },
  "kernelspec": {
   "display_name": "Python 3",
   "language": "python",
   "name": "python3"
  },
  "language_info": {
   "codemirror_mode": {
    "name": "ipython",
    "version": 3
   },
   "file_extension": ".py",
   "mimetype": "text/x-python",
   "name": "python",
   "nbconvert_exporter": "python",
   "pygments_lexer": "ipython3",
   "version": "3.11.13"
  },
  "papermill": {
   "default_parameters": {},
   "duration": 16.551591,
   "end_time": "2025-07-22T09:22:11.872464",
   "environment_variables": {},
   "exception": null,
   "input_path": "__notebook__.ipynb",
   "output_path": "__notebook__.ipynb",
   "parameters": {},
   "start_time": "2025-07-22T09:21:55.320873",
   "version": "2.6.0"
  }
 },
 "nbformat": 4,
 "nbformat_minor": 5
}
